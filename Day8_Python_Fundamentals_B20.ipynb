{
 "cells": [
  {
   "cell_type": "code",
   "execution_count": null,
   "metadata": {},
   "outputs": [],
   "source": [
    "Continuation of list"
   ]
  },
  {
   "cell_type": "code",
   "execution_count": null,
   "metadata": {},
   "outputs": [],
   "source": []
  },
  {
   "cell_type": "code",
   "execution_count": 1,
   "metadata": {},
   "outputs": [
    {
     "name": "stdout",
     "output_type": "stream",
     "text": [
      "['rafat', 'eeram', 'rakshita', 'arsheen', 'tasmiya', 'saba', 'riddhi', 'shruti']\n"
     ]
    }
   ],
   "source": [
    "students=['rafat','eeram','rakshita','arsheen','tasmiya','saba','riddhi','shruti']\n",
    "print(students)"
   ]
  },
  {
   "cell_type": "code",
   "execution_count": null,
   "metadata": {},
   "outputs": [],
   "source": []
  },
  {
   "cell_type": "code",
   "execution_count": null,
   "metadata": {},
   "outputs": [],
   "source": [
    "creating a for loop with 2 or 3 conditions\n",
    "1) appreciating for the work\n",
    "2) looking forward to catch up again \n",
    "3) warn for the surprise test\n",
    "4) thanking "
   ]
  },
  {
   "cell_type": "code",
   "execution_count": null,
   "metadata": {},
   "outputs": [],
   "source": []
  },
  {
   "cell_type": "code",
   "execution_count": 2,
   "metadata": {},
   "outputs": [
    {
     "name": "stdout",
     "output_type": "stream",
     "text": [
      "Appreciating the efforts for your documentaries,keep it up,Rafat\n",
      "I hope to see you in up-coming sessions,Rafat \n",
      "I am priorly telling you'll about surprise test till whereever we are done,Rafat\n",
      "Appreciating the efforts for your documentaries,keep it up,Eeram\n",
      "I hope to see you in up-coming sessions,Eeram \n",
      "I am priorly telling you'll about surprise test till whereever we are done,Eeram\n",
      "Appreciating the efforts for your documentaries,keep it up,Rakshita\n",
      "I hope to see you in up-coming sessions,Rakshita \n",
      "I am priorly telling you'll about surprise test till whereever we are done,Rakshita\n",
      "Appreciating the efforts for your documentaries,keep it up,Arsheen\n",
      "I hope to see you in up-coming sessions,Arsheen \n",
      "I am priorly telling you'll about surprise test till whereever we are done,Arsheen\n",
      "Appreciating the efforts for your documentaries,keep it up,Tasmiya\n",
      "I hope to see you in up-coming sessions,Tasmiya \n",
      "I am priorly telling you'll about surprise test till whereever we are done,Tasmiya\n",
      "Appreciating the efforts for your documentaries,keep it up,Saba\n",
      "I hope to see you in up-coming sessions,Saba \n",
      "I am priorly telling you'll about surprise test till whereever we are done,Saba\n",
      "Appreciating the efforts for your documentaries,keep it up,Riddhi\n",
      "I hope to see you in up-coming sessions,Riddhi \n",
      "I am priorly telling you'll about surprise test till whereever we are done,Riddhi\n",
      "Appreciating the efforts for your documentaries,keep it up,Shruti\n",
      "I hope to see you in up-coming sessions,Shruti \n",
      "I am priorly telling you'll about surprise test till whereever we are done,Shruti\n",
      "Thank you  all!!!\n"
     ]
    }
   ],
   "source": [
    "for friends in students:\n",
    "    print(f\"Appreciating the efforts for your documentaries,keep it up,{friends.title()}\")\n",
    "    print(f\"I hope to see you in up-coming sessions,{friends.title()} \")\n",
    "    print(f\"I am priorly telling you'll about surprise test till whereever we are done,{friends.title()}\")\n",
    "print(f\"Thank you  all!!!\")   "
   ]
  },
  {
   "cell_type": "code",
   "execution_count": null,
   "metadata": {},
   "outputs": [],
   "source": []
  },
  {
   "cell_type": "code",
   "execution_count": 3,
   "metadata": {},
   "outputs": [
    {
     "name": "stdout",
     "output_type": "stream",
     "text": [
      "Appreciating the efforts for your documentaries,keep it up,Rafat\n",
      "\n",
      "I hope to see you in up-coming sessions,Rafat\n",
      " \n",
      "I am priorly telling you'll about surprise test till whereever we are done,Rafat\n",
      "\n",
      "Appreciating the efforts for your documentaries,keep it up,Eeram\n",
      "\n",
      "I hope to see you in up-coming sessions,Eeram\n",
      " \n",
      "I am priorly telling you'll about surprise test till whereever we are done,Eeram\n",
      "\n",
      "Appreciating the efforts for your documentaries,keep it up,Rakshita\n",
      "\n",
      "I hope to see you in up-coming sessions,Rakshita\n",
      " \n",
      "I am priorly telling you'll about surprise test till whereever we are done,Rakshita\n",
      "\n",
      "Appreciating the efforts for your documentaries,keep it up,Arsheen\n",
      "\n",
      "I hope to see you in up-coming sessions,Arsheen\n",
      " \n",
      "I am priorly telling you'll about surprise test till whereever we are done,Arsheen\n",
      "\n",
      "Appreciating the efforts for your documentaries,keep it up,Tasmiya\n",
      "\n",
      "I hope to see you in up-coming sessions,Tasmiya\n",
      " \n",
      "I am priorly telling you'll about surprise test till whereever we are done,Tasmiya\n",
      "\n",
      "Appreciating the efforts for your documentaries,keep it up,Saba\n",
      "\n",
      "I hope to see you in up-coming sessions,Saba\n",
      " \n",
      "I am priorly telling you'll about surprise test till whereever we are done,Saba\n",
      "\n",
      "Appreciating the efforts for your documentaries,keep it up,Riddhi\n",
      "\n",
      "I hope to see you in up-coming sessions,Riddhi\n",
      " \n",
      "I am priorly telling you'll about surprise test till whereever we are done,Riddhi\n",
      "\n",
      "Appreciating the efforts for your documentaries,keep it up,Shruti\n",
      "\n",
      "I hope to see you in up-coming sessions,Shruti\n",
      " \n",
      "I am priorly telling you'll about surprise test till whereever we are done,Shruti\n",
      "\n",
      "Thank you  all!!!\n"
     ]
    }
   ],
   "source": [
    "for friends in students:\n",
    "    print(f\"Appreciating the efforts for your documentaries,keep it up,{friends.title()}\\n\")\n",
    "    print(f\"I hope to see you in up-coming sessions,{friends.title()}\\n \")\n",
    "    print(f\"I am priorly telling you'll about surprise test till whereever we are done,{friends.title()}\\n\")\n",
    "print(f\"Thank you  all!!!\")   "
   ]
  },
  {
   "cell_type": "code",
   "execution_count": null,
   "metadata": {},
   "outputs": [],
   "source": []
  },
  {
   "cell_type": "code",
   "execution_count": 4,
   "metadata": {},
   "outputs": [
    {
     "name": "stdout",
     "output_type": "stream",
     "text": [
      "Appreciating the efforts for your documentaries,keep it up,Rafat\n",
      "I hope to see you in up-coming sessions,Rafat \n",
      "I am priorly telling you'll about surprise test till whereever we are done,Rafat\n",
      "\n",
      "Appreciating the efforts for your documentaries,keep it up,Eeram\n",
      "I hope to see you in up-coming sessions,Eeram \n",
      "I am priorly telling you'll about surprise test till whereever we are done,Eeram\n",
      "\n",
      "Appreciating the efforts for your documentaries,keep it up,Rakshita\n",
      "I hope to see you in up-coming sessions,Rakshita \n",
      "I am priorly telling you'll about surprise test till whereever we are done,Rakshita\n",
      "\n",
      "Appreciating the efforts for your documentaries,keep it up,Arsheen\n",
      "I hope to see you in up-coming sessions,Arsheen \n",
      "I am priorly telling you'll about surprise test till whereever we are done,Arsheen\n",
      "\n",
      "Appreciating the efforts for your documentaries,keep it up,Tasmiya\n",
      "I hope to see you in up-coming sessions,Tasmiya \n",
      "I am priorly telling you'll about surprise test till whereever we are done,Tasmiya\n",
      "\n",
      "Appreciating the efforts for your documentaries,keep it up,Saba\n",
      "I hope to see you in up-coming sessions,Saba \n",
      "I am priorly telling you'll about surprise test till whereever we are done,Saba\n",
      "\n",
      "Appreciating the efforts for your documentaries,keep it up,Riddhi\n",
      "I hope to see you in up-coming sessions,Riddhi \n",
      "I am priorly telling you'll about surprise test till whereever we are done,Riddhi\n",
      "\n",
      "Appreciating the efforts for your documentaries,keep it up,Shruti\n",
      "I hope to see you in up-coming sessions,Shruti \n",
      "I am priorly telling you'll about surprise test till whereever we are done,Shruti\n",
      "\n",
      "Thank you  all!!!\n"
     ]
    }
   ],
   "source": [
    "for friends in students:\n",
    "    print(f\"Appreciating the efforts for your documentaries,keep it up,{friends.title()}\")\n",
    "    print(f\"I hope to see you in up-coming sessions,{friends.title()} \")\n",
    "    print(f\"I am priorly telling you'll about surprise test till whereever we are done,{friends.title()}\\n\")\n",
    "print(f\"Thank you  all!!!\") "
   ]
  },
  {
   "cell_type": "code",
   "execution_count": null,
   "metadata": {},
   "outputs": [],
   "source": []
  },
  {
   "cell_type": "code",
   "execution_count": null,
   "metadata": {},
   "outputs": [],
   "source": [
    "There are two types of indexing and they are as follows:\n",
    "1)positive indexing\n",
    "2)negative indexing\n",
    "\n",
    "Positive indexing starts from 0 always. \n",
    "and\n",
    "negative indexing starts from -1 always."
   ]
  },
  {
   "cell_type": "code",
   "execution_count": null,
   "metadata": {},
   "outputs": [],
   "source": []
  },
  {
   "cell_type": "code",
   "execution_count": 5,
   "metadata": {},
   "outputs": [
    {
     "name": "stdout",
     "output_type": "stream",
     "text": [
      "rakshita\n"
     ]
    }
   ],
   "source": [
    "print(students[2])"
   ]
  },
  {
   "cell_type": "code",
   "execution_count": null,
   "metadata": {},
   "outputs": [],
   "source": []
  },
  {
   "cell_type": "code",
   "execution_count": 6,
   "metadata": {},
   "outputs": [
    {
     "name": "stdout",
     "output_type": "stream",
     "text": [
      "rafat\n"
     ]
    }
   ],
   "source": [
    "print(students[0])"
   ]
  },
  {
   "cell_type": "code",
   "execution_count": null,
   "metadata": {},
   "outputs": [],
   "source": []
  },
  {
   "cell_type": "code",
   "execution_count": 7,
   "metadata": {},
   "outputs": [
    {
     "name": "stdout",
     "output_type": "stream",
     "text": [
      "saba\n"
     ]
    }
   ],
   "source": [
    "print(students[-3])"
   ]
  },
  {
   "cell_type": "code",
   "execution_count": null,
   "metadata": {},
   "outputs": [],
   "source": []
  },
  {
   "cell_type": "code",
   "execution_count": 8,
   "metadata": {},
   "outputs": [
    {
     "name": "stdout",
     "output_type": "stream",
     "text": [
      "shruti\n"
     ]
    }
   ],
   "source": [
    "print(students[-1])"
   ]
  },
  {
   "cell_type": "code",
   "execution_count": null,
   "metadata": {},
   "outputs": [],
   "source": []
  },
  {
   "cell_type": "code",
   "execution_count": 9,
   "metadata": {},
   "outputs": [
    {
     "name": "stdout",
     "output_type": "stream",
     "text": [
      "arsheen\n"
     ]
    }
   ],
   "source": [
    "print(students[-5])"
   ]
  },
  {
   "cell_type": "code",
   "execution_count": null,
   "metadata": {},
   "outputs": [],
   "source": []
  },
  {
   "cell_type": "code",
   "execution_count": null,
   "metadata": {},
   "outputs": [],
   "source": [
    "***Reverse order\n",
    "***general syntax\n",
    "\n",
    "starvalue:stopvalue:stepvalue"
   ]
  },
  {
   "cell_type": "code",
   "execution_count": null,
   "metadata": {},
   "outputs": [],
   "source": []
  },
  {
   "cell_type": "code",
   "execution_count": 10,
   "metadata": {},
   "outputs": [
    {
     "name": "stdout",
     "output_type": "stream",
     "text": [
      "['rafat', 'eeram', 'rakshita', 'arsheen', 'tasmiya', 'saba', 'riddhi', 'shruti']\n"
     ]
    }
   ],
   "source": [
    "print(students[::1])"
   ]
  },
  {
   "cell_type": "code",
   "execution_count": 11,
   "metadata": {},
   "outputs": [
    {
     "name": "stdout",
     "output_type": "stream",
     "text": [
      "['shruti', 'riddhi', 'saba', 'tasmiya', 'arsheen', 'rakshita', 'eeram', 'rafat']\n"
     ]
    }
   ],
   "source": [
    "print(students[::-1])                             #this is reverse order."
   ]
  },
  {
   "cell_type": "code",
   "execution_count": null,
   "metadata": {},
   "outputs": [],
   "source": []
  },
  {
   "cell_type": "code",
   "execution_count": null,
   "metadata": {},
   "outputs": [],
   "source": [
    "Introduction to Zen of python"
   ]
  },
  {
   "cell_type": "code",
   "execution_count": 12,
   "metadata": {},
   "outputs": [
    {
     "name": "stdout",
     "output_type": "stream",
     "text": [
      "The Zen of Python, by Tim Peters\n",
      "\n",
      "Beautiful is better than ugly.\n",
      "Explicit is better than implicit.\n",
      "Simple is better than complex.\n",
      "Complex is better than complicated.\n",
      "Flat is better than nested.\n",
      "Sparse is better than dense.\n",
      "Readability counts.\n",
      "Special cases aren't special enough to break the rules.\n",
      "Although practicality beats purity.\n",
      "Errors should never pass silently.\n",
      "Unless explicitly silenced.\n",
      "In the face of ambiguity, refuse the temptation to guess.\n",
      "There should be one-- and preferably only one --obvious way to do it.\n",
      "Although that way may not be obvious at first unless you're Dutch.\n",
      "Now is better than never.\n",
      "Although never is often better than *right* now.\n",
      "If the implementation is hard to explain, it's a bad idea.\n",
      "If the implementation is easy to explain, it may be a good idea.\n",
      "Namespaces are one honking great idea -- let's do more of those!\n"
     ]
    }
   ],
   "source": [
    "import this"
   ]
  },
  {
   "cell_type": "code",
   "execution_count": null,
   "metadata": {},
   "outputs": [],
   "source": []
  }
 ],
 "metadata": {
  "kernelspec": {
   "display_name": "Python 3",
   "language": "python",
   "name": "python3"
  },
  "language_info": {
   "codemirror_mode": {
    "name": "ipython",
    "version": 3
   },
   "file_extension": ".py",
   "mimetype": "text/x-python",
   "name": "python",
   "nbconvert_exporter": "python",
   "pygments_lexer": "ipython3",
   "version": "3.7.6"
  }
 },
 "nbformat": 4,
 "nbformat_minor": 4
}
