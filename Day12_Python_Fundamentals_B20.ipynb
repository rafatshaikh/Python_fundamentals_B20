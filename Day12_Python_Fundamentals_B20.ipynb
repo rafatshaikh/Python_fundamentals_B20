{
 "cells": [
  {
   "cell_type": "code",
   "execution_count": null,
   "metadata": {},
   "outputs": [],
   "source": [
    "***Continuation of dictionaries"
   ]
  },
  {
   "cell_type": "code",
   "execution_count": null,
   "metadata": {},
   "outputs": [],
   "source": []
  },
  {
   "cell_type": "code",
   "execution_count": null,
   "metadata": {},
   "outputs": [],
   "source": [
    "#Done a survey in some particular area of students to choose their fav lang "
   ]
  },
  {
   "cell_type": "code",
   "execution_count": 1,
   "metadata": {},
   "outputs": [
    {
     "name": "stdout",
     "output_type": "stream",
     "text": [
      "{'rafat': 'english', 'azmat': 'french', 'nuzat': 'spanish', 'eeram': 'italian', 'aisha': 'arabic'}\n"
     ]
    }
   ],
   "source": [
    "fav_language = {\n",
    "    'rafat':'english',\n",
    "    'azmat':'french',\n",
    "    'nuzat':'spanish',\n",
    "    'eeram':'italian',\n",
    "    'aisha':'arabic'\n",
    "}\n",
    "print(fav_language)"
   ]
  },
  {
   "cell_type": "code",
   "execution_count": null,
   "metadata": {},
   "outputs": [],
   "source": []
  },
  {
   "cell_type": "code",
   "execution_count": 2,
   "metadata": {},
   "outputs": [
    {
     "name": "stdout",
     "output_type": "stream",
     "text": [
      "nuzat's fav lang for speaking is Spanish\n"
     ]
    }
   ],
   "source": [
    "#req : Want to know what is nuzat's fav lang is??\n",
    "\n",
    "foryou = fav_language['nuzat'].title()\n",
    "print(f\"nuzat's fav lang for speaking is {foryou}\")"
   ]
  },
  {
   "cell_type": "code",
   "execution_count": null,
   "metadata": {},
   "outputs": [],
   "source": []
  },
  {
   "cell_type": "code",
   "execution_count": 3,
   "metadata": {},
   "outputs": [
    {
     "name": "stdout",
     "output_type": "stream",
     "text": [
      "aisha's fav lang for speaking is Arabic\n"
     ]
    }
   ],
   "source": [
    "#req : Want to Know what is aisha's fav lang is??\n",
    "\n",
    "forme = fav_language['aisha'].title()\n",
    "print(f\"aisha's fav lang for speaking is {forme}\")"
   ]
  },
  {
   "cell_type": "code",
   "execution_count": 4,
   "metadata": {},
   "outputs": [
    {
     "name": "stdout",
     "output_type": "stream",
     "text": [
      "Nuzat's fav lang for speaking is Spanish\n"
     ]
    }
   ],
   "source": [
    "foryou = fav_language['nuzat'].title()\n",
    "print(f\"Nuzat's fav lang for speaking is {foryou}\")"
   ]
  },
  {
   "cell_type": "code",
   "execution_count": null,
   "metadata": {},
   "outputs": [],
   "source": []
  },
  {
   "cell_type": "code",
   "execution_count": null,
   "metadata": {},
   "outputs": [],
   "source": [
    "# ****Using get() to access the values  ***alien game contd"
   ]
  },
  {
   "cell_type": "code",
   "execution_count": 5,
   "metadata": {},
   "outputs": [
    {
     "ename": "KeyError",
     "evalue": "'points'",
     "output_type": "error",
     "traceback": [
      "\u001b[1;31m---------------------------------------------------------------------------\u001b[0m",
      "\u001b[1;31mKeyError\u001b[0m                                  Traceback (most recent call last)",
      "\u001b[1;32m<ipython-input-5-9427538f01a9>\u001b[0m in \u001b[0;36m<module>\u001b[1;34m\u001b[0m\n\u001b[0;32m      1\u001b[0m \u001b[0malien\u001b[0m \u001b[1;33m=\u001b[0m \u001b[1;33m{\u001b[0m\u001b[1;34m'colour'\u001b[0m\u001b[1;33m:\u001b[0m\u001b[1;34m'yellow'\u001b[0m\u001b[1;33m,\u001b[0m\u001b[1;34m'speed'\u001b[0m\u001b[1;33m:\u001b[0m\u001b[1;34m'slow'\u001b[0m\u001b[1;33m}\u001b[0m\u001b[1;33m\u001b[0m\u001b[1;33m\u001b[0m\u001b[0m\n\u001b[0;32m      2\u001b[0m \u001b[1;33m\u001b[0m\u001b[0m\n\u001b[1;32m----> 3\u001b[1;33m \u001b[0mprint\u001b[0m\u001b[1;33m(\u001b[0m\u001b[0malien\u001b[0m\u001b[1;33m[\u001b[0m\u001b[1;34m'points'\u001b[0m\u001b[1;33m]\u001b[0m\u001b[1;33m)\u001b[0m                         \u001b[1;31m#printing an unknown value to check\u001b[0m\u001b[1;33m\u001b[0m\u001b[1;33m\u001b[0m\u001b[0m\n\u001b[0m",
      "\u001b[1;31mKeyError\u001b[0m: 'points'"
     ]
    }
   ],
   "source": [
    "alien = {'colour':'yellow','speed':'slow'}\n",
    "\n",
    "print(alien['points'])                         #printing an unknown value to check"
   ]
  },
  {
   "cell_type": "code",
   "execution_count": 6,
   "metadata": {},
   "outputs": [
    {
     "ename": "SyntaxError",
     "evalue": "invalid syntax (<ipython-input-6-5fecd207d7e0>, line 1)",
     "output_type": "error",
     "traceback": [
      "\u001b[1;36m  File \u001b[1;32m\"<ipython-input-6-5fecd207d7e0>\"\u001b[1;36m, line \u001b[1;32m1\u001b[0m\n\u001b[1;33m    point_value = alien('points':'no point value assigned')\u001b[0m\n\u001b[1;37m                                ^\u001b[0m\n\u001b[1;31mSyntaxError\u001b[0m\u001b[1;31m:\u001b[0m invalid syntax\n"
     ]
    }
   ],
   "source": [
    "point_value = alien('points':'no point value assigned')\n",
    "\n",
    "print(point_value)"
   ]
  },
  {
   "cell_type": "code",
   "execution_count": 7,
   "metadata": {},
   "outputs": [
    {
     "ename": "SyntaxError",
     "evalue": "invalid syntax (<ipython-input-7-f517d63cf996>, line 1)",
     "output_type": "error",
     "traceback": [
      "\u001b[1;36m  File \u001b[1;32m\"<ipython-input-7-f517d63cf996>\"\u001b[1;36m, line \u001b[1;32m1\u001b[0m\n\u001b[1;33m    point_value = alien.get('points':'no point value assigned')\u001b[0m\n\u001b[1;37m                                    ^\u001b[0m\n\u001b[1;31mSyntaxError\u001b[0m\u001b[1;31m:\u001b[0m invalid syntax\n"
     ]
    }
   ],
   "source": [
    "point_value = alien.get('points':'no point value assigned')\n",
    "\n",
    "print(point_value)"
   ]
  },
  {
   "cell_type": "code",
   "execution_count": 8,
   "metadata": {},
   "outputs": [
    {
     "name": "stdout",
     "output_type": "stream",
     "text": [
      "no point value assigned\n"
     ]
    }
   ],
   "source": [
    "point_value = alien.get('points','no point value assigned')\n",
    "\n",
    "print(point_value)"
   ]
  },
  {
   "cell_type": "code",
   "execution_count": null,
   "metadata": {},
   "outputs": [],
   "source": []
  },
  {
   "cell_type": "code",
   "execution_count": null,
   "metadata": {},
   "outputs": [],
   "source": [
    "# ***looping through all key value pairs of a dictionary"
   ]
  },
  {
   "cell_type": "code",
   "execution_count": 9,
   "metadata": {},
   "outputs": [
    {
     "name": "stdout",
     "output_type": "stream",
     "text": [
      "{'username': 'interiors', 'firstname': 'Sanjar', 'Lastname': 'Shaikh', 'dob': '11-05-98'}\n"
     ]
    }
   ],
   "source": [
    "user_acc = {\n",
    "    'username':'interiors',\n",
    "    'firstname':'Sanjar',\n",
    "    'Lastname':'Shaikh',\n",
    "    'dob':'11-05-98'\n",
    "}\n",
    "  \n",
    "print(user_acc)   "
   ]
  },
  {
   "cell_type": "code",
   "execution_count": null,
   "metadata": {},
   "outputs": [],
   "source": []
  },
  {
   "cell_type": "code",
   "execution_count": null,
   "metadata": {},
   "outputs": [],
   "source": [
    "#How to apply looping concept on top of a dictionary"
   ]
  },
  {
   "cell_type": "code",
   "execution_count": 10,
   "metadata": {},
   "outputs": [
    {
     "name": "stdout",
     "output_type": "stream",
     "text": [
      "\n",
      "power: username\n",
      "supply: interiors\n",
      "\n",
      "power: firstname\n",
      "supply: Sanjar\n",
      "\n",
      "power: Lastname\n",
      "supply: Shaikh\n",
      "\n",
      "power: dob\n",
      "supply: 11-05-98\n"
     ]
    }
   ],
   "source": [
    "for power,supply in user_acc.items():\n",
    "    print(f\"\\npower: {power}\")\n",
    "    print(f\"supply: {supply}\")\n"
   ]
  },
  {
   "cell_type": "code",
   "execution_count": 11,
   "metadata": {},
   "outputs": [
    {
     "name": "stdout",
     "output_type": "stream",
     "text": [
      "\n",
      "r: username\n",
      "s: interiors\n",
      "\n",
      "r: firstname\n",
      "s: Sanjar\n",
      "\n",
      "r: Lastname\n",
      "s: Shaikh\n",
      "\n",
      "r: dob\n",
      "s: 11-05-98\n"
     ]
    }
   ],
   "source": [
    "for r,s in user_acc.items():\n",
    "    print(f\"\\nr: {r}\")\n",
    "    print(f\"s: {s}\")\n"
   ]
  }
 ],
 "metadata": {
  "kernelspec": {
   "display_name": "Python 3",
   "language": "python",
   "name": "python3"
  },
  "language_info": {
   "codemirror_mode": {
    "name": "ipython",
    "version": 3
   },
   "file_extension": ".py",
   "mimetype": "text/x-python",
   "name": "python",
   "nbconvert_exporter": "python",
   "pygments_lexer": "ipython3",
   "version": "3.7.6"
  }
 },
 "nbformat": 4,
 "nbformat_minor": 4
}
