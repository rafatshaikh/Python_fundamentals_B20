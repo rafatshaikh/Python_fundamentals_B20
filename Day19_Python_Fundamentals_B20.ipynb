{
 "cells": [
  {
   "cell_type": "code",
   "execution_count": null,
   "metadata": {},
   "outputs": [],
   "source": [
    "Introduction to python classes "
   ]
  },
  {
   "cell_type": "code",
   "execution_count": null,
   "metadata": {},
   "outputs": [],
   "source": [
    "Class\n",
    "Class is a high level blue print of the program.\n",
    "\n",
    "Methods\n",
    "A function written inside a class is called as methods \n",
    "\n",
    "Attributes\n",
    "A variable written inside a class is called as attributes\n",
    "\n",
    "Self\n",
    "A self is nothing but a temporary placeholder for an object\n",
    "\n",
    "Object\n",
    "Anything inside the class can be accessed by using the object"
   ]
  },
  {
   "cell_type": "code",
   "execution_count": null,
   "metadata": {},
   "outputs": [],
   "source": []
  },
  {
   "cell_type": "code",
   "execution_count": null,
   "metadata": {},
   "outputs": [],
   "source": [
    "OOPs Object Oriented Programming"
   ]
  },
  {
   "cell_type": "code",
   "execution_count": null,
   "metadata": {},
   "outputs": [],
   "source": [
    "#Case study \n",
    "#greeting an user by creating a class and methods"
   ]
  },
  {
   "cell_type": "code",
   "execution_count": null,
   "metadata": {},
   "outputs": [],
   "source": []
  },
  {
   "cell_type": "code",
   "execution_count": 2,
   "metadata": {},
   "outputs": [],
   "source": [
    "class Greet:\n",
    "    \"\"\"Building a class to greet the customer\"\"\"\n",
    "    \n",
    "    def createname(self,name):\n",
    "        self.name = name\n",
    "        \n",
    "    def displayname(self):\n",
    "        print(self.name)\n",
    "        \n",
    "    def greetname(self):\n",
    "        print(f\"Hello,welcome to the company, {self.name} \")"
   ]
  },
  {
   "cell_type": "code",
   "execution_count": 3,
   "metadata": {},
   "outputs": [],
   "source": [
    "zobj = Greet()"
   ]
  },
  {
   "cell_type": "code",
   "execution_count": 4,
   "metadata": {},
   "outputs": [],
   "source": [
    "zobj.createname('Rakshita')"
   ]
  },
  {
   "cell_type": "code",
   "execution_count": 5,
   "metadata": {},
   "outputs": [
    {
     "name": "stdout",
     "output_type": "stream",
     "text": [
      "Rakshita\n"
     ]
    }
   ],
   "source": [
    "zobj.displayname()"
   ]
  },
  {
   "cell_type": "code",
   "execution_count": 6,
   "metadata": {},
   "outputs": [
    {
     "name": "stdout",
     "output_type": "stream",
     "text": [
      "Hello,welcome to the company, Rakshita \n"
     ]
    }
   ],
   "source": [
    "zobj.greetname()"
   ]
  },
  {
   "cell_type": "code",
   "execution_count": 8,
   "metadata": {},
   "outputs": [],
   "source": [
    "class Greet:\n",
    "    \"\"\"Building a class to greet the customer\"\"\"\n",
    "    \n",
    "    def createname(self,name,age):\n",
    "        self.name = name\n",
    "        self.age = age\n",
    "        \n",
    "    def displayname(self):\n",
    "        print(self.name)\n",
    "        print(self.age)\n",
    "        \n",
    "    def greetname(self):\n",
    "        print(f\"Hello,welcome to the company, {self.name} \")"
   ]
  },
  {
   "cell_type": "code",
   "execution_count": 7,
   "metadata": {},
   "outputs": [],
   "source": [
    "zobj.createname('18')"
   ]
  },
  {
   "cell_type": "code",
   "execution_count": 9,
   "metadata": {},
   "outputs": [
    {
     "name": "stdout",
     "output_type": "stream",
     "text": [
      "18\n"
     ]
    }
   ],
   "source": [
    "zobj.displayname()"
   ]
  },
  {
   "cell_type": "code",
   "execution_count": null,
   "metadata": {},
   "outputs": [],
   "source": []
  }
 ],
 "metadata": {
  "kernelspec": {
   "display_name": "Python 3",
   "language": "python",
   "name": "python3"
  },
  "language_info": {
   "codemirror_mode": {
    "name": "ipython",
    "version": 3
   },
   "file_extension": ".py",
   "mimetype": "text/x-python",
   "name": "python",
   "nbconvert_exporter": "python",
   "pygments_lexer": "ipython3",
   "version": "3.7.6"
  }
 },
 "nbformat": 4,
 "nbformat_minor": 4
}
