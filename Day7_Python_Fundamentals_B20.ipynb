{
 "cells": [
  {
   "cell_type": "code",
   "execution_count": null,
   "metadata": {},
   "outputs": [],
   "source": [
    "Introduction of for loop in a list."
   ]
  },
  {
   "cell_type": "code",
   "execution_count": null,
   "metadata": {},
   "outputs": [],
   "source": []
  },
  {
   "cell_type": "code",
   "execution_count": 2,
   "metadata": {},
   "outputs": [
    {
     "name": "stdout",
     "output_type": "stream",
     "text": [
      "['bmw', 'mercedes', 'rmq', 'pulsar', 'hero-honda', 'activa', 'access', 'audi']\n"
     ]
    }
   ],
   "source": [
    "vehicles=['bmw','mercedes','rmq','pulsar','hero-honda','activa','access','audi']\n",
    "print(vehicles)"
   ]
  },
  {
   "cell_type": "code",
   "execution_count": null,
   "metadata": {},
   "outputs": [],
   "source": []
  },
  {
   "cell_type": "code",
   "execution_count": 3,
   "metadata": {},
   "outputs": [
    {
     "data": {
      "text/plain": [
       "list"
      ]
     },
     "execution_count": 3,
     "metadata": {},
     "output_type": "execute_result"
    }
   ],
   "source": [
    "type(vehicles)"
   ]
  },
  {
   "cell_type": "code",
   "execution_count": null,
   "metadata": {},
   "outputs": [],
   "source": []
  },
  {
   "cell_type": "code",
   "execution_count": null,
   "metadata": {},
   "outputs": [],
   "source": [
    "***General syntax of for loop***  \n",
    "for tempvar in mainvar:                          #temporary variable & main variable\n",
    "    print(tempvar)                               #the gap here is known as indentation.  \n",
    "    \n",
    "\n",
    "***Defination of for loop***\n",
    "for loop is used to iterate over the elements in a given list"
   ]
  },
  {
   "cell_type": "code",
   "execution_count": null,
   "metadata": {},
   "outputs": [],
   "source": []
  },
  {
   "cell_type": "code",
   "execution_count": 4,
   "metadata": {},
   "outputs": [
    {
     "name": "stdout",
     "output_type": "stream",
     "text": [
      "bmw\n",
      "mercedes\n",
      "rmq\n",
      "pulsar\n",
      "hero-honda\n",
      "activa\n",
      "access\n",
      "audi\n"
     ]
    }
   ],
   "source": [
    "for car_bike in vehicles:\n",
    "    print(car_bike)                          "
   ]
  },
  {
   "cell_type": "code",
   "execution_count": null,
   "metadata": {},
   "outputs": [],
   "source": []
  },
  {
   "cell_type": "code",
   "execution_count": null,
   "metadata": {},
   "outputs": [],
   "source": [
    "***using for loop with string in list***"
   ]
  },
  {
   "cell_type": "code",
   "execution_count": 5,
   "metadata": {},
   "outputs": [
    {
     "name": "stdout",
     "output_type": "stream",
     "text": [
      "Bmw\n",
      "Mercedes\n",
      "Rmq\n",
      "Pulsar\n",
      "Hero-Honda\n",
      "Activa\n",
      "Access\n",
      "Audi\n"
     ]
    }
   ],
   "source": [
    "for test in vehicles:\n",
    "    print(test.title())        "
   ]
  },
  {
   "cell_type": "code",
   "execution_count": null,
   "metadata": {},
   "outputs": [],
   "source": []
  },
  {
   "cell_type": "code",
   "execution_count": 6,
   "metadata": {},
   "outputs": [
    {
     "name": "stdout",
     "output_type": "stream",
     "text": [
      "BMW\n",
      "MERCEDES\n",
      "RMQ\n",
      "PULSAR\n",
      "HERO-HONDA\n",
      "ACTIVA\n",
      "ACCESS\n",
      "AUDI\n"
     ]
    }
   ],
   "source": [
    "for brand in vehicles:\n",
    "    print(brand.upper())"
   ]
  },
  {
   "cell_type": "code",
   "execution_count": null,
   "metadata": {},
   "outputs": [],
   "source": []
  },
  {
   "cell_type": "code",
   "execution_count": 7,
   "metadata": {},
   "outputs": [
    {
     "name": "stdout",
     "output_type": "stream",
     "text": [
      "bmw\n",
      "mercedes\n",
      "rmq\n",
      "pulsar\n",
      "hero-honda\n",
      "activa\n",
      "access\n",
      "audi\n"
     ]
    }
   ],
   "source": [
    "for lost in vehicles:\n",
    "    print(lost.lower())"
   ]
  },
  {
   "cell_type": "code",
   "execution_count": null,
   "metadata": {},
   "outputs": [],
   "source": []
  },
  {
   "cell_type": "code",
   "execution_count": null,
   "metadata": {},
   "outputs": [],
   "source": [
    "req: To appreciate the above brands of vehicles by using string and f statment to enhance."
   ]
  },
  {
   "cell_type": "code",
   "execution_count": null,
   "metadata": {},
   "outputs": [],
   "source": []
  },
  {
   "cell_type": "code",
   "execution_count": 8,
   "metadata": {},
   "outputs": [
    {
     "name": "stdout",
     "output_type": "stream",
     "text": [
      "The best brand for automobiles are Bmw\n",
      "The best brand for automobiles are Mercedes\n",
      "The best brand for automobiles are Rmq\n",
      "The best brand for automobiles are Pulsar\n",
      "The best brand for automobiles are Hero-Honda\n",
      "The best brand for automobiles are Activa\n",
      "The best brand for automobiles are Access\n",
      "The best brand for automobiles are Audi\n"
     ]
    }
   ],
   "source": [
    "for star in vehicles:\n",
    "    print(f\"The best brand for automobiles are {star.title()}\")"
   ]
  },
  {
   "cell_type": "code",
   "execution_count": null,
   "metadata": {},
   "outputs": [],
   "source": []
  }
 ],
 "metadata": {
  "kernelspec": {
   "display_name": "Python 3",
   "language": "python",
   "name": "python3"
  },
  "language_info": {
   "codemirror_mode": {
    "name": "ipython",
    "version": 3
   },
   "file_extension": ".py",
   "mimetype": "text/x-python",
   "name": "python",
   "nbconvert_exporter": "python",
   "pygments_lexer": "ipython3",
   "version": "3.7.6"
  }
 },
 "nbformat": 4,
 "nbformat_minor": 4
}
